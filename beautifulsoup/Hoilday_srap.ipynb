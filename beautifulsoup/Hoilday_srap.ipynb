{
 "cells": [
  {
   "cell_type": "code",
   "execution_count": 1,
   "metadata": {
    "ExecuteTime": {
     "end_time": "2021-01-21T08:04:21.160960Z",
     "start_time": "2021-01-21T08:04:20.577770Z"
    }
   },
   "outputs": [],
   "source": [
    "import requests as rq\n",
    "from bs4 import BeautifulSoup as bbs\n",
    "import pandas as pd"
   ]
  },
  {
   "cell_type": "code",
   "execution_count": 2,
   "metadata": {
    "ExecuteTime": {
     "end_time": "2021-01-21T08:04:21.176806Z",
     "start_time": "2021-01-21T08:04:21.164093Z"
    }
   },
   "outputs": [],
   "source": [
    "def country_name(res_data):\n",
    "    return res_data.find('title').text.split()[-1]\n",
    "\n",
    "\n",
    "def holiday_type(res_data):\n",
    "    table = res_data.find('table', {'class': 'border1 caln lpad'})\n",
    "    col_val = {}\n",
    "    for i in table.findAll('li'):\n",
    "        for j in i.findAll('span'):\n",
    "            try:\n",
    "                col_val[j['class'][0]] = ' '.join(i.text.split()[1:]).replace('.','').strip()\n",
    "            except:\n",
    "                pass\n",
    "    return col_val\n",
    "\n",
    "\n",
    "def holiday_extract(baseurl):\n",
    "    res = rq.get(baseurl)\n",
    "    res_data = bbs(res.text, 'html.parser')\n",
    "    \n",
    "    country = country_name(res_data)\n",
    "    col_val = holiday_type(res_data)\n",
    "    \n",
    "    data = []\n",
    "    table = res_data.findAll('table', {'class': 'cht lpad'})\n",
    "    for j in table:\n",
    "        for i in j.findAll('tr'):\n",
    "            for m, n in zip(i.findAll('td'), i.findAll('a')):\n",
    "\n",
    "                try:\n",
    "                    type_d = col_val[m.find('span')['class'][0]]\n",
    "                except:\n",
    "                    type_d = None\n",
    "                date, value = m.text, n.text\n",
    "                data.append([date, value, type_d])\n",
    "\n",
    "    return country, data"
   ]
  },
  {
   "cell_type": "markdown",
   "metadata": {},
   "source": [
    "# Go to website & select country name & paste url"
   ]
  },
  {
   "cell_type": "code",
   "execution_count": 3,
   "metadata": {
    "ExecuteTime": {
     "end_time": "2021-01-21T08:04:21.744229Z",
     "start_time": "2021-01-21T08:04:21.179530Z"
    }
   },
   "outputs": [],
   "source": [
    "baseurl = 'https://www.timeanddate.com/calendar/custom.html?year=2021&country=233&hol=12710783&df=1'\n",
    "\n",
    "country,data = holiday_extract(baseurl)"
   ]
  },
  {
   "cell_type": "code",
   "execution_count": 4,
   "metadata": {
    "ExecuteTime": {
     "end_time": "2021-01-21T08:04:21.760911Z",
     "start_time": "2021-01-21T08:04:21.746692Z"
    }
   },
   "outputs": [
    {
     "data": {
      "text/plain": [
       "'Bangladesh'"
      ]
     },
     "execution_count": 4,
     "metadata": {},
     "output_type": "execute_result"
    }
   ],
   "source": [
    "country"
   ]
  },
  {
   "cell_type": "code",
   "execution_count": 5,
   "metadata": {
    "ExecuteTime": {
     "end_time": "2021-01-21T08:04:21.864885Z",
     "start_time": "2021-01-21T08:04:21.764119Z"
    }
   },
   "outputs": [
    {
     "data": {
      "text/html": [
       "<div>\n",
       "<style scoped>\n",
       "    .dataframe tbody tr th:only-of-type {\n",
       "        vertical-align: middle;\n",
       "    }\n",
       "\n",
       "    .dataframe tbody tr th {\n",
       "        vertical-align: top;\n",
       "    }\n",
       "\n",
       "    .dataframe thead th {\n",
       "        text-align: right;\n",
       "    }\n",
       "</style>\n",
       "<table border=\"1\" class=\"dataframe\">\n",
       "  <thead>\n",
       "    <tr style=\"text-align: right;\">\n",
       "      <th></th>\n",
       "      <th>Date</th>\n",
       "      <th>Name</th>\n",
       "      <th>Type</th>\n",
       "    </tr>\n",
       "  </thead>\n",
       "  <tbody>\n",
       "    <tr>\n",
       "      <th>0</th>\n",
       "      <td>01 জানুয়ারি</td>\n",
       "      <td>নববর্ষের দিন</td>\n",
       "      <td>Local Holidays</td>\n",
       "    </tr>\n",
       "    <tr>\n",
       "      <th>1</th>\n",
       "      <td>10 জানুয়ারি</td>\n",
       "      <td>Bangabandhu Homecoming Day</td>\n",
       "      <td>Local Holidays</td>\n",
       "    </tr>\n",
       "    <tr>\n",
       "      <th>2</th>\n",
       "      <td>14 ফেব্রুয়ারি</td>\n",
       "      <td>ভ্যালেনটাইন ডে</td>\n",
       "      <td>None</td>\n",
       "    </tr>\n",
       "    <tr>\n",
       "      <th>3</th>\n",
       "      <td>16 ফেব্রুয়ারি</td>\n",
       "      <td>সরস্বতী পূজা</td>\n",
       "      <td>Local Holidays</td>\n",
       "    </tr>\n",
       "    <tr>\n",
       "      <th>4</th>\n",
       "      <td>17 ফেব্রুয়ারি</td>\n",
       "      <td>অ্যাশ বুধবার</td>\n",
       "      <td>Local Holidays</td>\n",
       "    </tr>\n",
       "  </tbody>\n",
       "</table>\n",
       "</div>"
      ],
      "text/plain": [
       "             Date                        Name            Type\n",
       "0    01 জানুয়ারি                নববর্ষের দিন  Local Holidays\n",
       "1    10 জানুয়ারি  Bangabandhu Homecoming Day  Local Holidays\n",
       "2  14 ফেব্রুয়ারি              ভ্যালেনটাইন ডে            None\n",
       "3  16 ফেব্রুয়ারি                সরস্বতী পূজা  Local Holidays\n",
       "4  17 ফেব্রুয়ারি                অ্যাশ বুধবার  Local Holidays"
      ]
     },
     "execution_count": 5,
     "metadata": {},
     "output_type": "execute_result"
    }
   ],
   "source": [
    "df = pd.DataFrame(data,columns=['Date','Name','Type'])\n",
    "df.head()"
   ]
  }
 ],
 "metadata": {
  "kernelspec": {
   "display_name": "Python 3",
   "language": "python",
   "name": "python3"
  },
  "language_info": {
   "codemirror_mode": {
    "name": "ipython",
    "version": 3
   },
   "file_extension": ".py",
   "mimetype": "text/x-python",
   "name": "python",
   "nbconvert_exporter": "python",
   "pygments_lexer": "ipython3",
   "version": "3.8.5"
  },
  "varInspector": {
   "cols": {
    "lenName": 16,
    "lenType": 16,
    "lenVar": 40
   },
   "kernels_config": {
    "python": {
     "delete_cmd_postfix": "",
     "delete_cmd_prefix": "del ",
     "library": "var_list.py",
     "varRefreshCmd": "print(var_dic_list())"
    },
    "r": {
     "delete_cmd_postfix": ") ",
     "delete_cmd_prefix": "rm(",
     "library": "var_list.r",
     "varRefreshCmd": "cat(var_dic_list()) "
    }
   },
   "types_to_exclude": [
    "module",
    "function",
    "builtin_function_or_method",
    "instance",
    "_Feature"
   ],
   "window_display": false
  }
 },
 "nbformat": 4,
 "nbformat_minor": 4
}
