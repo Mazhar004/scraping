{
 "cells": [
  {
   "cell_type": "code",
   "execution_count": 1,
   "metadata": {
    "ExecuteTime": {
     "end_time": "2021-01-21T15:19:28.445597Z",
     "start_time": "2021-01-21T15:19:28.212939Z"
    },
    "scrolled": false
   },
   "outputs": [],
   "source": [
    "from bs4 import BeautifulSoup as bbs\n",
    "import requests as rq"
   ]
  },
  {
   "cell_type": "code",
   "execution_count": 2,
   "metadata": {
    "ExecuteTime": {
     "end_time": "2021-01-21T15:19:28.464356Z",
     "start_time": "2021-01-21T15:19:28.450210Z"
    }
   },
   "outputs": [],
   "source": [
    "def currency_history(res_data):\n",
    "    all_data = {}\n",
    "    for i in res_data.findAll('tbody')[:1]:\n",
    "        for j in i.findAll('tr'):\n",
    "            temp = [k.text for k in j.findAll('td')]\n",
    "            year, price = temp[0], temp[-2]\n",
    "            all_data[int(year)] = price\n",
    "    return all_data\n",
    "\n",
    "\n",
    "def data_extraction():\n",
    "    baseurl = 'https://www.macrotrends.net/1333/historical-gold-prices-100-year-chart'\n",
    "    res = rq.get(baseurl)\n",
    "    res_data = bbs(res.text, 'html.parser')\n",
    "    gold_history = currency_history(res_data)\n",
    "    return gold_history"
   ]
  },
  {
   "cell_type": "code",
   "execution_count": 3,
   "metadata": {
    "ExecuteTime": {
     "end_time": "2021-01-21T15:19:28.574216Z",
     "start_time": "2021-01-21T15:19:28.467884Z"
    }
   },
   "outputs": [],
   "source": [
    "class PriceChange:\n",
    "    def __init__(self, buy, predict, price=None):\n",
    "        self.buy = buy\n",
    "        self.predict = predict\n",
    "        self.price = price\n",
    "        self.gold_history = data_extraction()\n",
    "\n",
    "    def dollar2int(self, price):\n",
    "        return float(price[1:].replace(',', '').strip())\n",
    "\n",
    "    def money_comp(self,price=None):\n",
    "        buy = self.dollar2int(self.gold_history[self.buy])\n",
    "        predict = self.dollar2int(self.gold_history[self.predict])\n",
    "        increase = 1+((predict-buy)/buy)\n",
    "        if price:\n",
    "            new_val = round(price*increase, 2)\n",
    "        else:\n",
    "            new_val = round(self.price*increase, 2)\n",
    "        return \"Value of {} in {} is same as {} at {}\".format(self.price,self.buy,new_val,self.predict)        "
   ]
  },
  {
   "cell_type": "code",
   "execution_count": 4,
   "metadata": {
    "ExecuteTime": {
     "end_time": "2021-01-21T15:19:28.678486Z",
     "start_time": "2021-01-21T15:19:28.578102Z"
    }
   },
   "outputs": [],
   "source": [
    "buy = 1975\n",
    "predict = 2020\n",
    "price = 15"
   ]
  },
  {
   "cell_type": "code",
   "execution_count": 5,
   "metadata": {
    "ExecuteTime": {
     "end_time": "2021-01-21T15:19:29.240982Z",
     "start_time": "2021-01-21T15:19:28.680688Z"
    }
   },
   "outputs": [],
   "source": [
    "money_value = PriceChange(buy,predict,price)"
   ]
  },
  {
   "cell_type": "code",
   "execution_count": 6,
   "metadata": {
    "ExecuteTime": {
     "end_time": "2021-01-21T15:19:29.264509Z",
     "start_time": "2021-01-21T15:19:29.242898Z"
    }
   },
   "outputs": [
    {
     "data": {
      "text/plain": [
       "'Value of 15 in 1975 is same as 202.68 at 2020'"
      ]
     },
     "execution_count": 6,
     "metadata": {},
     "output_type": "execute_result"
    }
   ],
   "source": [
    "money_value.money_comp()"
   ]
  }
 ],
 "metadata": {
  "kernelspec": {
   "display_name": "Python 3",
   "language": "python",
   "name": "python3"
  },
  "language_info": {
   "codemirror_mode": {
    "name": "ipython",
    "version": 3
   },
   "file_extension": ".py",
   "mimetype": "text/x-python",
   "name": "python",
   "nbconvert_exporter": "python",
   "pygments_lexer": "ipython3",
   "version": "3.8.5"
  },
  "varInspector": {
   "cols": {
    "lenName": 16,
    "lenType": 16,
    "lenVar": 40
   },
   "kernels_config": {
    "python": {
     "delete_cmd_postfix": "",
     "delete_cmd_prefix": "del ",
     "library": "var_list.py",
     "varRefreshCmd": "print(var_dic_list())"
    },
    "r": {
     "delete_cmd_postfix": ") ",
     "delete_cmd_prefix": "rm(",
     "library": "var_list.r",
     "varRefreshCmd": "cat(var_dic_list()) "
    }
   },
   "types_to_exclude": [
    "module",
    "function",
    "builtin_function_or_method",
    "instance",
    "_Feature"
   ],
   "window_display": false
  }
 },
 "nbformat": 4,
 "nbformat_minor": 4
}
