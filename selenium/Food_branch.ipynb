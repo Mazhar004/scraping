{
 "cells": [
  {
   "cell_type": "code",
   "execution_count": 1,
   "metadata": {
    "ExecuteTime": {
     "end_time": "2021-01-21T14:31:11.050165Z",
     "start_time": "2021-01-21T14:31:10.556847Z"
    }
   },
   "outputs": [],
   "source": [
    "from bs4 import BeautifulSoup as bbs\n",
    "import requests as rq\n",
    "import pandas as pd\n",
    "\n",
    "import os\n",
    "import sys\n",
    "\n",
    "from selenium import webdriver\n",
    "from selenium.webdriver.support.ui import WebDriverWait"
   ]
  },
  {
   "cell_type": "code",
   "execution_count": 2,
   "metadata": {
    "ExecuteTime": {
     "end_time": "2021-01-21T14:31:11.827933Z",
     "start_time": "2021-01-21T14:31:11.818073Z"
    }
   },
   "outputs": [],
   "source": [
    "def web_driver(baseurl):\n",
    "    if 'linux' in sys.platform.lower():\n",
    "        driver = webdriver.Firefox()\n",
    "    else:\n",
    "        path = os.path.join(os.getcwd(), 'driver')\n",
    "        driver = webdriver.Firefox(path)\n",
    "\n",
    "    wait = WebDriverWait(driver, 10)\n",
    "    driver.get(baseurl)\n",
    "    return driver\n",
    "\n",
    "\n",
    "def extract_data(driver):\n",
    "    data = bbs(driver.page_source, 'html.parser')\n",
    "    store_data = data.find('div', {'class': 'c-store-box'})\n",
    "    name = store_data.find('h3', {'class': 'c-store-box__name'})\n",
    "    address = store_data.find('p', {'class': 'c-store-box__content'})\n",
    "    if name:\n",
    "        name = name.text\n",
    "    if address:\n",
    "        address = address.text\n",
    "\n",
    "    return [name, address]"
   ]
  },
  {
   "cell_type": "code",
   "execution_count": 3,
   "metadata": {
    "ExecuteTime": {
     "end_time": "2021-01-21T14:31:14.095648Z",
     "start_time": "2021-01-21T14:31:14.073325Z"
    }
   },
   "outputs": [],
   "source": [
    "def country_filter(driver, country='United States'):\n",
    "    for i in driver.find_elements('css selector', \".js-country\"):\n",
    "        if i.text == country:\n",
    "            return i\n",
    "\n",
    "\n",
    "def city_list(driver):\n",
    "    my_cities = []\n",
    "    for i in driver.find_elements('css selector', \".js-city\"):\n",
    "        if i.text.strip():\n",
    "            my_cities.append(i)\n",
    "    return my_cities\n",
    "\n",
    "\n",
    "def store_list(driver):\n",
    "    my_store = []\n",
    "    for i in driver.find_elements('css selector', \".js-store\"):\n",
    "        if i.text.strip():\n",
    "            my_store.append(i)\n",
    "    return my_store\n",
    "\n",
    "\n",
    "def full_pipeline(driver, country_name='United States'):\n",
    "    humberger_menu = driver.find_element(\n",
    "        'css selector', \".c-location__hamburger-wrapper\")\n",
    "    humberger_menu.click()\n",
    "    country_data = country_filter(driver, country_name)\n",
    "    country_data.click()\n",
    "\n",
    "    all_data = {}\n",
    "    my_cities = city_list(driver)\n",
    "    length_city = len(my_cities)\n",
    "    for i in range(length_city):\n",
    "        current_city = my_cities[i].text\n",
    "        my_cities[i].click()\n",
    "        my_stores = store_list(driver)\n",
    "        length_store = len(my_stores)\n",
    "        for j in range(length_store):\n",
    "            my_stores[j].click()\n",
    "            try:\n",
    "                all_data[current_city].append(extract_data(driver))\n",
    "            except:\n",
    "                all_data[current_city] = [extract_data(driver)]\n",
    "            driver.find_element('css selector', \".js-location-arrow\").click()\n",
    "            my_cities[i].click()\n",
    "            my_stores = store_list(driver)\n",
    "        driver.find_element('css selector', \".js-location-arrow\").click()\n",
    "        my_cities = city_list(driver)\n",
    "\n",
    "    driver.find_element('css selector', \".js-location-arrow\").click()\n",
    "    driver.find_element('css selector', \".c-location__hamburger-wrapper\").click()\n",
    "    return all_data"
   ]
  },
  {
   "cell_type": "code",
   "execution_count": 4,
   "metadata": {
    "ExecuteTime": {
     "end_time": "2021-01-21T14:31:25.183366Z",
     "start_time": "2021-01-21T14:31:14.964626Z"
    }
   },
   "outputs": [],
   "source": [
    "baseurl = 'https://marouchocolate.com/where-to-buy/'\n",
    "driver = web_driver(baseurl)"
   ]
  },
  {
   "cell_type": "code",
   "execution_count": 5,
   "metadata": {
    "ExecuteTime": {
     "end_time": "2021-01-21T14:40:05.815463Z",
     "start_time": "2021-01-21T14:31:53.083941Z"
    }
   },
   "outputs": [],
   "source": [
    "all_data = full_pipeline(driver,'United States')"
   ]
  },
  {
   "cell_type": "code",
   "execution_count": 6,
   "metadata": {
    "ExecuteTime": {
     "end_time": "2021-01-21T14:40:20.022351Z",
     "start_time": "2021-01-21T14:40:19.007394Z"
    }
   },
   "outputs": [],
   "source": [
    "driver.close()"
   ]
  },
  {
   "cell_type": "code",
   "execution_count": 7,
   "metadata": {
    "ExecuteTime": {
     "end_time": "2021-01-21T14:40:32.213776Z",
     "start_time": "2021-01-21T14:40:32.208794Z"
    }
   },
   "outputs": [],
   "source": [
    "data = []\n",
    "for i, j in all_data.items():\n",
    "    for k in j:\n",
    "        data.append([i]+k)"
   ]
  },
  {
   "cell_type": "code",
   "execution_count": 8,
   "metadata": {
    "ExecuteTime": {
     "end_time": "2021-01-21T14:40:34.521516Z",
     "start_time": "2021-01-21T14:40:34.510457Z"
    }
   },
   "outputs": [],
   "source": [
    "df = pd.DataFrame(data, columns=['City','Name', 'Address'])"
   ]
  },
  {
   "cell_type": "code",
   "execution_count": 9,
   "metadata": {
    "ExecuteTime": {
     "end_time": "2021-01-21T14:40:36.056344Z",
     "start_time": "2021-01-21T14:40:36.019781Z"
    }
   },
   "outputs": [
    {
     "data": {
      "text/html": [
       "<div>\n",
       "<style scoped>\n",
       "    .dataframe tbody tr th:only-of-type {\n",
       "        vertical-align: middle;\n",
       "    }\n",
       "\n",
       "    .dataframe tbody tr th {\n",
       "        vertical-align: top;\n",
       "    }\n",
       "\n",
       "    .dataframe thead th {\n",
       "        text-align: right;\n",
       "    }\n",
       "</style>\n",
       "<table border=\"1\" class=\"dataframe\">\n",
       "  <thead>\n",
       "    <tr style=\"text-align: right;\">\n",
       "      <th></th>\n",
       "      <th>City</th>\n",
       "      <th>Name</th>\n",
       "      <th>Address</th>\n",
       "    </tr>\n",
       "  </thead>\n",
       "  <tbody>\n",
       "    <tr>\n",
       "      <th>0</th>\n",
       "      <td>Alabama</td>\n",
       "      <td>Honeycreeper Chocolate</td>\n",
       "      <td>1029 Glen View Rd, Birmingham, AL 35222, USA</td>\n",
       "    </tr>\n",
       "    <tr>\n",
       "      <th>1</th>\n",
       "      <td>Alaska</td>\n",
       "      <td>Summit Spice &amp; Tea Company</td>\n",
       "      <td>3131 Denali St, Anchorage, AK 99503, USA</td>\n",
       "    </tr>\n",
       "    <tr>\n",
       "      <th>2</th>\n",
       "      <td>Alaska</td>\n",
       "      <td>Non-Essentials</td>\n",
       "      <td>17869 Christian Ridge Rd, Palmer, AK 99645, USA</td>\n",
       "    </tr>\n",
       "    <tr>\n",
       "      <th>3</th>\n",
       "      <td>Arizona</td>\n",
       "      <td>The Loft Cinema</td>\n",
       "      <td>3233 E Speedway Blvd, Tucson, AZ 85716, USA</td>\n",
       "    </tr>\n",
       "    <tr>\n",
       "      <th>4</th>\n",
       "      <td>Arizona</td>\n",
       "      <td>Bright Side Bookshop</td>\n",
       "      <td>18 N San Francisco St, Flagstaff, AZ 86001, USA</td>\n",
       "    </tr>\n",
       "    <tr>\n",
       "      <th>...</th>\n",
       "      <td>...</td>\n",
       "      <td>...</td>\n",
       "      <td>...</td>\n",
       "    </tr>\n",
       "    <tr>\n",
       "      <th>314</th>\n",
       "      <td>Wisconsin</td>\n",
       "      <td>Madison Chocolate Company</td>\n",
       "      <td>729 Glenway St, Madison, WI 53711, USA</td>\n",
       "    </tr>\n",
       "    <tr>\n",
       "      <th>315</th>\n",
       "      <td>Wisconsin</td>\n",
       "      <td>Green Road Pottery</td>\n",
       "      <td>1910 Green Rd, Stoughton, WI 53589, USA</td>\n",
       "    </tr>\n",
       "    <tr>\n",
       "      <th>316</th>\n",
       "      <td>Wisconsin</td>\n",
       "      <td>Chocolate Sommelier</td>\n",
       "      <td>829 E Brady St, Milwaukee, WI 53202, USA</td>\n",
       "    </tr>\n",
       "    <tr>\n",
       "      <th>317</th>\n",
       "      <td>Wyoming</td>\n",
       "      <td>Moose Enterprise</td>\n",
       "      <td>12170 Dornans Rd, Moose, WY 83012, USA</td>\n",
       "    </tr>\n",
       "    <tr>\n",
       "      <th>318</th>\n",
       "      <td>Wyoming</td>\n",
       "      <td>Grant Street Grocery and Market</td>\n",
       "      <td>815 S Grant Ave, Casper, WY 82601, USA</td>\n",
       "    </tr>\n",
       "  </tbody>\n",
       "</table>\n",
       "<p>319 rows × 3 columns</p>\n",
       "</div>"
      ],
      "text/plain": [
       "          City                             Name  \\\n",
       "0      Alabama           Honeycreeper Chocolate   \n",
       "1       Alaska       Summit Spice & Tea Company   \n",
       "2       Alaska                   Non-Essentials   \n",
       "3      Arizona                  The Loft Cinema   \n",
       "4      Arizona             Bright Side Bookshop   \n",
       "..         ...                              ...   \n",
       "314  Wisconsin        Madison Chocolate Company   \n",
       "315  Wisconsin               Green Road Pottery   \n",
       "316  Wisconsin              Chocolate Sommelier   \n",
       "317    Wyoming                 Moose Enterprise   \n",
       "318    Wyoming  Grant Street Grocery and Market   \n",
       "\n",
       "                                             Address  \n",
       "0       1029 Glen View Rd, Birmingham, AL 35222, USA  \n",
       "1           3131 Denali St, Anchorage, AK 99503, USA  \n",
       "2    17869 Christian Ridge Rd, Palmer, AK 99645, USA  \n",
       "3        3233 E Speedway Blvd, Tucson, AZ 85716, USA  \n",
       "4    18 N San Francisco St, Flagstaff, AZ 86001, USA  \n",
       "..                                               ...  \n",
       "314           729 Glenway St, Madison, WI 53711, USA  \n",
       "315          1910 Green Rd, Stoughton, WI 53589, USA  \n",
       "316         829 E Brady St, Milwaukee, WI 53202, USA  \n",
       "317           12170 Dornans Rd, Moose, WY 83012, USA  \n",
       "318           815 S Grant Ave, Casper, WY 82601, USA  \n",
       "\n",
       "[319 rows x 3 columns]"
      ]
     },
     "execution_count": 9,
     "metadata": {},
     "output_type": "execute_result"
    }
   ],
   "source": [
    "df"
   ]
  }
 ],
 "metadata": {
  "kernelspec": {
   "display_name": "Python 3",
   "language": "python",
   "name": "python3"
  },
  "language_info": {
   "codemirror_mode": {
    "name": "ipython",
    "version": 3
   },
   "file_extension": ".py",
   "mimetype": "text/x-python",
   "name": "python",
   "nbconvert_exporter": "python",
   "pygments_lexer": "ipython3",
   "version": "3.8.5"
  },
  "varInspector": {
   "cols": {
    "lenName": 16,
    "lenType": 16,
    "lenVar": 40
   },
   "kernels_config": {
    "python": {
     "delete_cmd_postfix": "",
     "delete_cmd_prefix": "del ",
     "library": "var_list.py",
     "varRefreshCmd": "print(var_dic_list())"
    },
    "r": {
     "delete_cmd_postfix": ") ",
     "delete_cmd_prefix": "rm(",
     "library": "var_list.r",
     "varRefreshCmd": "cat(var_dic_list()) "
    }
   },
   "types_to_exclude": [
    "module",
    "function",
    "builtin_function_or_method",
    "instance",
    "_Feature"
   ],
   "window_display": false
  }
 },
 "nbformat": 4,
 "nbformat_minor": 4
}
