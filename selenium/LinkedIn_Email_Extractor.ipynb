{
 "cells": [
  {
   "cell_type": "code",
   "execution_count": 1,
   "metadata": {},
   "outputs": [],
   "source": [
    "from bs4 import BeautifulSoup as bbs\n",
    "import requests as rq\n",
    "\n",
    "import sys\n",
    "import os\n",
    "\n",
    "from selenium import webdriver\n",
    "from selenium.webdriver.common.by import By\n",
    "from selenium.webdriver.support.ui import WebDriverWait\n",
    "from selenium.webdriver.common.keys import Keys"
   ]
  },
  {
   "cell_type": "code",
   "execution_count": 2,
   "metadata": {},
   "outputs": [],
   "source": [
    "email = 'abc@gmail.com'\n",
    "password = 'unknown'\n",
    "username = 'abc'\n",
    "url = 'https://www.linkedin.com/in/mazhar004/'"
   ]
  },
  {
   "cell_type": "code",
   "execution_count": 3,
   "metadata": {},
   "outputs": [],
   "source": [
    "def web_driver(baseurl):\n",
    "    if 'linux' in sys.platform.lower():\n",
    "        driver = webdriver.Firefox()\n",
    "    else:\n",
    "        path = os.path.join(os.getcwd(), 'driver')\n",
    "        driver = webdriver.Firefox(path)\n",
    "\n",
    "    wait = WebDriverWait(driver, 10)\n",
    "    driver.get(baseurl)\n",
    "    return driver\n",
    "\n",
    "\n",
    "def login(driver, email, password):\n",
    "    driver.find_element_by_id('session_key').clear()\n",
    "    driver.find_element_by_id('session_password').clear()\n",
    "    driver.find_element_by_id('session_key').send_keys(email)\n",
    "    driver.find_element_by_id('session_password').send_keys(password)\n",
    "    driver.find_element_by_class_name('sign-in-form__submit-button').click()\n",
    "\n",
    "    skip = driver.find_elements_by_class_name('secondary-action-new')\n",
    "    if len(skip):\n",
    "        skip[0].click()\n",
    "\n",
    "\n",
    "def contact_info(driver):\n",
    "    driver.find_element_by_css_selector(\n",
    "        '.inline-block~ .inline-block+ .inline-block .link-without-visited-state').click()\n",
    "    mail = [i.get_attribute('href') for i in driver.find_elements_by_css_selector(\n",
    "        '#artdeco-modal-outlet div a') if 'mailto' in i.get_attribute('href')]\n",
    "    if len(mail):\n",
    "        return mail[0].split(':')[-1]\n",
    "    return None\n",
    "\n",
    "\n",
    "def redirect(driver, url):\n",
    "    driver.get(url)"
   ]
  },
  {
   "cell_type": "code",
   "execution_count": 4,
   "metadata": {},
   "outputs": [],
   "source": [
    "baseurl = 'https://www.linkedin.com'\n",
    "driver = web_driver(baseurl)"
   ]
  },
  {
   "cell_type": "code",
   "execution_count": 5,
   "metadata": {},
   "outputs": [],
   "source": [
    "login(driver,email,password)"
   ]
  },
  {
   "cell_type": "code",
   "execution_count": 6,
   "metadata": {},
   "outputs": [],
   "source": [
    "redirect(driver,url)"
   ]
  },
  {
   "cell_type": "code",
   "execution_count": 7,
   "metadata": {},
   "outputs": [
    {
     "data": {
      "text/plain": [
       "'princemazhar.mp@gmail.com'"
      ]
     },
     "execution_count": 7,
     "metadata": {},
     "output_type": "execute_result"
    }
   ],
   "source": [
    "contact_info(driver)"
   ]
  },
  {
   "cell_type": "code",
   "execution_count": 8,
   "metadata": {},
   "outputs": [],
   "source": [
    "driver.close()"
   ]
  }
 ],
 "metadata": {
  "kernelspec": {
   "display_name": "Python 3",
   "language": "python",
   "name": "python3"
  },
  "language_info": {
   "codemirror_mode": {
    "name": "ipython",
    "version": 3
   },
   "file_extension": ".py",
   "mimetype": "text/x-python",
   "name": "python",
   "nbconvert_exporter": "python",
   "pygments_lexer": "ipython3",
   "version": "3.8.5"
  },
  "varInspector": {
   "cols": {
    "lenName": 16,
    "lenType": 16,
    "lenVar": 40
   },
   "kernels_config": {
    "python": {
     "delete_cmd_postfix": "",
     "delete_cmd_prefix": "del ",
     "library": "var_list.py",
     "varRefreshCmd": "print(var_dic_list())"
    },
    "r": {
     "delete_cmd_postfix": ") ",
     "delete_cmd_prefix": "rm(",
     "library": "var_list.r",
     "varRefreshCmd": "cat(var_dic_list()) "
    }
   },
   "types_to_exclude": [
    "module",
    "function",
    "builtin_function_or_method",
    "instance",
    "_Feature"
   ],
   "window_display": false
  }
 },
 "nbformat": 4,
 "nbformat_minor": 4
}