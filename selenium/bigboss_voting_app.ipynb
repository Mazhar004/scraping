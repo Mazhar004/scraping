{
 "cells": [
  {
   "cell_type": "code",
   "execution_count": 1,
   "metadata": {
    "ExecuteTime": {
     "end_time": "2021-01-20T15:57:21.321697Z",
     "start_time": "2021-01-20T15:57:21.199350Z"
    }
   },
   "outputs": [],
   "source": [
    "import requests as rq\n",
    "import random\n",
    "import sys\n",
    "import os\n",
    "import time\n",
    "\n",
    "from selenium import webdriver\n",
    "from selenium.webdriver.support.ui import WebDriverWait\n",
    "from selenium.webdriver.common.keys import Keys"
   ]
  },
  {
   "cell_type": "code",
   "execution_count": 2,
   "metadata": {
    "ExecuteTime": {
     "end_time": "2021-01-20T15:57:21.963368Z",
     "start_time": "2021-01-20T15:57:21.958854Z"
    }
   },
   "outputs": [],
   "source": [
    "letters = [\"a\", \"b\", \"c\", \"d\", \"e\", \"f\", \"g\", \"h\", \"i\", \"j\", \"k\", \"l\", \"m\", \"n\",\n",
    "           \"o\", \"p\", \"q\", \"r\", \"s\", \"t\", \"u\", \"v\", \"w\", \"x\", \"y\", \"z\"]"
   ]
  },
  {
   "cell_type": "code",
   "execution_count": 3,
   "metadata": {
    "ExecuteTime": {
     "end_time": "2021-01-20T15:57:22.595254Z",
     "start_time": "2021-01-20T15:57:22.591370Z"
    }
   },
   "outputs": [],
   "source": [
    "def button_click(driver, tag, value):\n",
    "    for i in driver.find_elements_by_css_selector(tag):\n",
    "        if i.text == value:\n",
    "            i.click()\n",
    "            break"
   ]
  },
  {
   "cell_type": "code",
   "execution_count": 4,
   "metadata": {
    "ExecuteTime": {
     "end_time": "2021-01-20T15:57:23.205309Z",
     "start_time": "2021-01-20T15:57:23.191130Z"
    }
   },
   "outputs": [],
   "source": [
    "def wait(driver, find_elements_by_css_selector=None, find_elements_by_xpath=None, wait_val=10000):\n",
    "    if find_elements_by_css_selector:\n",
    "        def fun(x): return x.find_elements_by_css_selector(\n",
    "            find_elements_by_css_selector)\n",
    "    else:\n",
    "        def fun(x): return x.find_elements_by_xpath(\n",
    "            find_elements_by_xpath)\n",
    "    try:\n",
    "        WebDriverWait(driver, wait_val).until(fun)\n",
    "        return True\n",
    "    except:\n",
    "        pass\n",
    "    return False\n",
    "\n",
    "\n",
    "def web_driver(baseurl, browser='firefox'):\n",
    "    if 'linux' in sys.platform.lower():\n",
    "        if browser.lower() == 'firefox':\n",
    "            driver = webdriver.Firefox()\n",
    "        else:\n",
    "            driver = webdriver.Chrome()\n",
    "    else:\n",
    "        path = os.path.join(os.getcwd(), 'driver')\n",
    "        if browser.lower() == 'firefox':\n",
    "            driver = webdriver.Firefox(path)\n",
    "        else:\n",
    "            driver = webdriver.Chrome(path)\n",
    "\n",
    "    driver.get(baseurl)\n",
    "    return driver\n",
    "\n",
    "\n",
    "def BigBossVote(driver, email, password, name, date, contestant):\n",
    "    if wait(driver, find_elements_by_css_selector='#email'):\n",
    "        driver.find_element_by_css_selector('#email').send_keys(email)\n",
    "        button_click(driver, 'button', 'Continue')\n",
    "\n",
    "        if wait(driver, find_elements_by_css_selector='#password'):\n",
    "            driver.find_element_by_css_selector(\n",
    "                '#password').send_keys(password)\n",
    "            button_click(driver, 'button', 'Continue')\n",
    "\n",
    "            if wait(driver, find_elements_by_css_selector='#name'):\n",
    "                driver.find_element_by_css_selector('#name').send_keys(name)\n",
    "                driver.find_element_by_css_selector('#dob').send_keys(date)\n",
    "                driver.find_element_by_css_selector('.genderWrapper').click()\n",
    "                button_click(driver, 'button', 'Select your preference')\n",
    "                button_click(driver, 'button', 'Save')\n",
    "                button_click(driver, 'button', 'Submit')\n",
    "\n",
    "                if wait(driver, find_elements_by_css_selector='img'):\n",
    "                    for i in driver.find_elements_by_css_selector('img'):\n",
    "                        if i.get_attribute('alt') == contestant:\n",
    "                            i.click()\n",
    "                            break\n",
    "                    button_click(driver, 'button', 'Submit')\n",
    "                    if wait(driver, find_elements_by_css_selector='img'):\n",
    "                        for i in driver.find_elements_by_css_selector('img'):\n",
    "                            if i.get_attribute('alt') == 'User Avatar':\n",
    "                                i.click()\n",
    "                                break\n",
    "                        button_click(driver, 'span', 'Log Out')"
   ]
  },
  {
   "cell_type": "code",
   "execution_count": 5,
   "metadata": {
    "ExecuteTime": {
     "end_time": "2021-01-20T15:57:38.020664Z",
     "start_time": "2021-01-20T15:57:23.931380Z"
    }
   },
   "outputs": [],
   "source": [
    "baseurl = 'https://voot.com'\n",
    "driver = web_driver(baseurl)"
   ]
  },
  {
   "cell_type": "code",
   "execution_count": 6,
   "metadata": {
    "ExecuteTime": {
     "end_time": "2021-01-20T15:58:36.516098Z",
     "start_time": "2021-01-20T15:57:46.572465Z"
    }
   },
   "outputs": [],
   "source": [
    "for i in range(1):\n",
    "    email = ''.join([random.choice(letters) for i in range(12)])+'@gmail.com'\n",
    "    name = ''.join([random.choice(letters) for i in range(6)])\n",
    "    password = ''.join([random.choice(letters) for i in range(8)])\n",
    "    date = '10/10/1991'\n",
    "    BigBossVote(driver,email,password,name,date,'Rahul Vaidya')"
   ]
  },
  {
   "cell_type": "code",
   "execution_count": 7,
   "metadata": {
    "ExecuteTime": {
     "end_time": "2021-01-20T16:00:45.407651Z",
     "start_time": "2021-01-20T16:00:44.454698Z"
    }
   },
   "outputs": [],
   "source": [
    "driver.close()"
   ]
  }
 ],
 "metadata": {
  "kernelspec": {
   "display_name": "Python 3 (ipykernel)",
   "language": "python",
   "name": "python3"
  },
  "language_info": {
   "codemirror_mode": {
    "name": "ipython",
    "version": 3
   },
   "file_extension": ".py",
   "mimetype": "text/x-python",
   "name": "python",
   "nbconvert_exporter": "python",
   "pygments_lexer": "ipython3",
   "version": "3.9.13"
  },
  "varInspector": {
   "cols": {
    "lenName": 16,
    "lenType": 16,
    "lenVar": 40
   },
   "kernels_config": {
    "python": {
     "delete_cmd_postfix": "",
     "delete_cmd_prefix": "del ",
     "library": "var_list.py",
     "varRefreshCmd": "print(var_dic_list())"
    },
    "r": {
     "delete_cmd_postfix": ") ",
     "delete_cmd_prefix": "rm(",
     "library": "var_list.r",
     "varRefreshCmd": "cat(var_dic_list()) "
    }
   },
   "types_to_exclude": [
    "module",
    "function",
    "builtin_function_or_method",
    "instance",
    "_Feature"
   ],
   "window_display": false
  }
 },
 "nbformat": 4,
 "nbformat_minor": 4
}
