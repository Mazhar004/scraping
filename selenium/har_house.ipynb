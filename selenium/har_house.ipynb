{
 "cells": [
  {
   "cell_type": "code",
   "execution_count": 33,
   "metadata": {
    "ExecuteTime": {
     "end_time": "2021-01-20T15:09:51.411252Z",
     "start_time": "2021-01-20T15:09:51.405215Z"
    }
   },
   "outputs": [],
   "source": [
    "from bs4 import BeautifulSoup as bbs\n",
    "import requests as rq\n",
    "\n",
    "import os\n",
    "import sys\n",
    "import json\n",
    "import pandas as pd\n",
    "import time\n",
    "\n",
    "from selenium import webdriver\n",
    "from selenium.webdriver.common.by import By\n",
    "from selenium.webdriver.support.ui import WebDriverWait"
   ]
  },
  {
   "cell_type": "code",
   "execution_count": 34,
   "metadata": {
    "ExecuteTime": {
     "end_time": "2021-01-20T15:09:51.762706Z",
     "start_time": "2021-01-20T15:09:51.753259Z"
    }
   },
   "outputs": [],
   "source": [
    "def web_driver(baseurl, browser='firefox'):\n",
    "    if 'linux' in sys.platform.lower():\n",
    "        if browser.lower() == 'firefox':\n",
    "            driver = webdriver.Firefox()\n",
    "        else:\n",
    "            driver = webdriver.Chrome()\n",
    "    else:\n",
    "        path = os.path.join(os.getcwd(), 'driver')\n",
    "        if browser == 'FireFox':\n",
    "            driver = webdriver.Firefox(path)\n",
    "        else:\n",
    "            driver = webdriver.Chrome(path)\n",
    "\n",
    "    wait = WebDriverWait(driver, 10)\n",
    "    driver.get(baseurl)\n",
    "    return driver\n",
    "\n",
    "def extract(driver):\n",
    "    res_data = bbs(driver.page_source, 'html.parser')\n",
    "\n",
    "    all_data = []\n",
    "    param_name = ['Bed', 'Bath', 'Stories', 'Building Sqft',\n",
    "                  'Garage(s) / Attached', 'Lot Sqft', 'Built', 'Private Pool']\n",
    "    for i in res_data.findAll('div', {'class': 'prop_item'}):\n",
    "        all_param = {}\n",
    "\n",
    "        price = i.find('div', {'class': 'price'}).text.strip()\n",
    "        address = i.find('a', {'class': 'address'}).text.strip()\n",
    "        params = [j.text.replace('.', '').strip()\n",
    "                  for j in i.findAll('div', {'class': 'mpf_item'})]\n",
    "        all_param = {m: n for m, n in zip(param_name, params)}\n",
    "        all_param['Price'] = price\n",
    "        all_param['Address'] = address\n",
    "        all_param['Comment'] = i.find('p').text\n",
    "        all_data.append(all_param)\n",
    "    return all_data"
   ]
  },
  {
   "cell_type": "code",
   "execution_count": 35,
   "metadata": {
    "ExecuteTime": {
     "end_time": "2021-01-20T15:10:08.060058Z",
     "start_time": "2021-01-20T15:09:52.464752Z"
    }
   },
   "outputs": [],
   "source": [
    "baseurl = 'https://www.har.com/'\n",
    "driver = web_driver(baseurl)"
   ]
  },
  {
   "cell_type": "markdown",
   "metadata": {},
   "source": [
    "# Select Filter Specification in Browser Window"
   ]
  },
  {
   "cell_type": "code",
   "execution_count": 36,
   "metadata": {
    "ExecuteTime": {
     "end_time": "2021-01-20T15:10:19.350524Z",
     "start_time": "2021-01-20T15:10:19.092748Z"
    }
   },
   "outputs": [],
   "source": [
    "all_main_data = []\n",
    "all_main_data += extract(driver)"
   ]
  },
  {
   "cell_type": "code",
   "execution_count": 37,
   "metadata": {
    "ExecuteTime": {
     "end_time": "2021-01-20T15:12:11.120880Z",
     "start_time": "2021-01-20T15:10:25.926245Z"
    }
   },
   "outputs": [],
   "source": [
    "pagination = driver.find_elements('css selector', \"div[class='pagination\")[0]\n",
    "links = pagination.find_elements('css selector', \"a[href='javascript:void(0)']\")[1:]\n",
    "\n",
    "for i in range(len(links)):\n",
    "    link = links[i]\n",
    "    link.click()\n",
    "    time.sleep(3)\n",
    "    all_main_data += extract(driver)\n",
    "    pagination = driver.find_elements('css selector', \"div[class='pagination\")[0]\n",
    "    links = pagination.find_elements('css selector', \"a[href='javascript:void(0)']\")[1:]"
   ]
  },
  {
   "cell_type": "code",
   "execution_count": 102,
   "metadata": {},
   "outputs": [],
   "source": [
    "driver.close()"
   ]
  },
  {
   "cell_type": "code",
   "execution_count": 38,
   "metadata": {
    "ExecuteTime": {
     "end_time": "2021-01-20T15:12:42.889997Z",
     "start_time": "2021-01-20T15:12:42.883590Z"
    }
   },
   "outputs": [],
   "source": [
    "df =pd.DataFrame(all_main_data)"
   ]
  },
  {
   "cell_type": "code",
   "execution_count": 39,
   "metadata": {
    "ExecuteTime": {
     "end_time": "2021-01-20T15:12:44.245815Z",
     "start_time": "2021-01-20T15:12:44.224514Z"
    }
   },
   "outputs": [
    {
     "data": {
      "text/html": [
       "<div>\n",
       "<style scoped>\n",
       "    .dataframe tbody tr th:only-of-type {\n",
       "        vertical-align: middle;\n",
       "    }\n",
       "\n",
       "    .dataframe tbody tr th {\n",
       "        vertical-align: top;\n",
       "    }\n",
       "\n",
       "    .dataframe thead th {\n",
       "        text-align: right;\n",
       "    }\n",
       "</style>\n",
       "<table border=\"1\" class=\"dataframe\">\n",
       "  <thead>\n",
       "    <tr style=\"text-align: right;\">\n",
       "      <th></th>\n",
       "      <th>Bed</th>\n",
       "      <th>Bath</th>\n",
       "      <th>Price</th>\n",
       "      <th>Address</th>\n",
       "      <th>Comment</th>\n",
       "      <th>Stories</th>\n",
       "      <th>Building Sqft</th>\n",
       "      <th>Garage(s) / Attached</th>\n",
       "      <th>Lot Sqft</th>\n",
       "      <th>Built</th>\n",
       "      <th>Private Pool</th>\n",
       "    </tr>\n",
       "  </thead>\n",
       "  <tbody>\n",
       "    <tr>\n",
       "      <th>0</th>\n",
       "      <td>2,200 Acre(s)</td>\n",
       "      <td>Road Frontage: ASPHAL,FMROA</td>\n",
       "      <td>$ 19,950,000</td>\n",
       "      <td>1352 FM 1397, Texarkana, TX 33471</td>\n",
       "      <td>Lot &amp; Acreage - Farm/Ranch Property,  in None ...</td>\n",
       "      <td>NaN</td>\n",
       "      <td>NaN</td>\n",
       "      <td>NaN</td>\n",
       "      <td>NaN</td>\n",
       "      <td>NaN</td>\n",
       "      <td>NaN</td>\n",
       "    </tr>\n",
       "    <tr>\n",
       "      <th>1</th>\n",
       "      <td>6 Bed(s)</td>\n",
       "      <td>6 Full &amp; 1 Half Bath(s)</td>\n",
       "      <td>$ 699,900</td>\n",
       "      <td>40 Knotty Pine Pl, Texarkana, TX 75503</td>\n",
       "      <td>Single Family Property, Traditional Style</td>\n",
       "      <td>180 Acre(s)</td>\n",
       "      <td>Built in 1987</td>\n",
       "      <td>No Private Pool</td>\n",
       "      <td>NaN</td>\n",
       "      <td>NaN</td>\n",
       "      <td>NaN</td>\n",
       "    </tr>\n",
       "    <tr>\n",
       "      <th>2</th>\n",
       "      <td>NaN</td>\n",
       "      <td>NaN</td>\n",
       "      <td>$ 650,000</td>\n",
       "      <td>4035 New Boston Rd, Texarkana, TX 75501</td>\n",
       "      <td>Residential Lots Property,</td>\n",
       "      <td>NaN</td>\n",
       "      <td>NaN</td>\n",
       "      <td>NaN</td>\n",
       "      <td>NaN</td>\n",
       "      <td>NaN</td>\n",
       "      <td>NaN</td>\n",
       "    </tr>\n",
       "    <tr>\n",
       "      <th>3</th>\n",
       "      <td>3 Bed(s)</td>\n",
       "      <td>3 Full &amp; 1 Half Bath(s)</td>\n",
       "      <td>$ 615,000</td>\n",
       "      <td>7 Shilling Pl, Texarkana, TX 75503</td>\n",
       "      <td>Single Family Property, Colonial Style</td>\n",
       "      <td>4,222 Building Sqft</td>\n",
       "      <td>463 Acre(s)</td>\n",
       "      <td>Built in 1994</td>\n",
       "      <td>No Private Pool</td>\n",
       "      <td>NaN</td>\n",
       "      <td>NaN</td>\n",
       "    </tr>\n",
       "    <tr>\n",
       "      <th>4</th>\n",
       "      <td>5 Bed(s)</td>\n",
       "      <td>3 Full &amp; 1 Half Bath(s)</td>\n",
       "      <td>$ 593,500</td>\n",
       "      <td>8 Forrest Brook Ln, Texarkana, TX 75503</td>\n",
       "      <td>Residential - Single Family Property, Colonial...</td>\n",
       "      <td>2 Stories</td>\n",
       "      <td>5,547 Building Sqft</td>\n",
       "      <td>3 Garage(s) / Attached</td>\n",
       "      <td>113 Acre(s)</td>\n",
       "      <td>Built in 1993</td>\n",
       "      <td>No Private Pool</td>\n",
       "    </tr>\n",
       "  </tbody>\n",
       "</table>\n",
       "</div>"
      ],
      "text/plain": [
       "             Bed                         Bath         Price  \\\n",
       "0  2,200 Acre(s)  Road Frontage: ASPHAL,FMROA  $ 19,950,000   \n",
       "1       6 Bed(s)      6 Full & 1 Half Bath(s)     $ 699,900   \n",
       "2            NaN                          NaN     $ 650,000   \n",
       "3       3 Bed(s)      3 Full & 1 Half Bath(s)     $ 615,000   \n",
       "4       5 Bed(s)      3 Full & 1 Half Bath(s)     $ 593,500   \n",
       "\n",
       "                                   Address  \\\n",
       "0        1352 FM 1397, Texarkana, TX 33471   \n",
       "1   40 Knotty Pine Pl, Texarkana, TX 75503   \n",
       "2  4035 New Boston Rd, Texarkana, TX 75501   \n",
       "3       7 Shilling Pl, Texarkana, TX 75503   \n",
       "4  8 Forrest Brook Ln, Texarkana, TX 75503   \n",
       "\n",
       "                                             Comment              Stories  \\\n",
       "0  Lot & Acreage - Farm/Ranch Property,  in None ...                  NaN   \n",
       "1        Single Family Property, Traditional Style            180 Acre(s)   \n",
       "2                       Residential Lots Property,                    NaN   \n",
       "3           Single Family Property, Colonial Style    4,222 Building Sqft   \n",
       "4  Residential - Single Family Property, Colonial...            2 Stories   \n",
       "\n",
       "         Building Sqft    Garage(s) / Attached         Lot Sqft  \\\n",
       "0                  NaN                     NaN              NaN   \n",
       "1        Built in 1987         No Private Pool              NaN   \n",
       "2                  NaN                     NaN              NaN   \n",
       "3          463 Acre(s)           Built in 1994  No Private Pool   \n",
       "4  5,547 Building Sqft  3 Garage(s) / Attached      113 Acre(s)   \n",
       "\n",
       "           Built     Private Pool  \n",
       "0            NaN              NaN  \n",
       "1            NaN              NaN  \n",
       "2            NaN              NaN  \n",
       "3            NaN              NaN  \n",
       "4  Built in 1993  No Private Pool  "
      ]
     },
     "execution_count": 39,
     "metadata": {},
     "output_type": "execute_result"
    }
   ],
   "source": [
    "df.head()"
   ]
  }
 ],
 "metadata": {
  "kernelspec": {
   "display_name": "Python 3",
   "language": "python",
   "name": "python3"
  },
  "language_info": {
   "codemirror_mode": {
    "name": "ipython",
    "version": 3
   },
   "file_extension": ".py",
   "mimetype": "text/x-python",
   "name": "python",
   "nbconvert_exporter": "python",
   "pygments_lexer": "ipython3",
   "version": "3.8.5"
  },
  "varInspector": {
   "cols": {
    "lenName": 16,
    "lenType": 16,
    "lenVar": 40
   },
   "kernels_config": {
    "python": {
     "delete_cmd_postfix": "",
     "delete_cmd_prefix": "del ",
     "library": "var_list.py",
     "varRefreshCmd": "print(var_dic_list())"
    },
    "r": {
     "delete_cmd_postfix": ") ",
     "delete_cmd_prefix": "rm(",
     "library": "var_list.r",
     "varRefreshCmd": "cat(var_dic_list()) "
    }
   },
   "types_to_exclude": [
    "module",
    "function",
    "builtin_function_or_method",
    "instance",
    "_Feature"
   ],
   "window_display": false
  }
 },
 "nbformat": 4,
 "nbformat_minor": 4
}
