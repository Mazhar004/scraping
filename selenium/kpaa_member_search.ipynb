{
 "cells": [
  {
   "cell_type": "code",
   "execution_count": 1,
   "metadata": {
    "ExecuteTime": {
     "end_time": "2021-01-20T14:51:55.603700Z",
     "start_time": "2021-01-20T14:51:55.005116Z"
    }
   },
   "outputs": [],
   "source": [
    "import sys\n",
    "import os\n",
    "\n",
    "from bs4 import BeautifulSoup as bbs\n",
    "import requests as rq\n",
    "\n",
    "import pandas as pd\n",
    "\n",
    "from selenium import webdriver\n",
    "from selenium.webdriver.support.ui import WebDriverWait"
   ]
  },
  {
   "cell_type": "code",
   "execution_count": 2,
   "metadata": {
    "ExecuteTime": {
     "end_time": "2021-01-20T14:51:55.615490Z",
     "start_time": "2021-01-20T14:51:55.606768Z"
    }
   },
   "outputs": [],
   "source": [
    "def web_driver(baseurl, browser='firefox'):\n",
    "    if 'linux' in sys.platform.lower():\n",
    "        if browser.lower() == 'firefox':\n",
    "            driver = webdriver.Firefox()\n",
    "        else:\n",
    "            driver = webdriver.Chrome()\n",
    "    else:\n",
    "        path = os.path.join(os.getcwd(), 'driver')\n",
    "        if browser.lower() == 'firefox':\n",
    "            driver = webdriver.Firefox(path)\n",
    "        else:\n",
    "            driver = webdriver.Chrome(path)\n",
    "\n",
    "    driver.get(baseurl)\n",
    "    return driver\n",
    "\n",
    "def extract(res_data):\n",
    "    all_data = []\n",
    "    for i in res_data.findAll('div', {'class': 'cont_box2'}):\n",
    "        for j in i.findAll('tr'):\n",
    "            td_data = j.findAll('td')\n",
    "            if len(td_data) == 4:\n",
    "                all_data.append([k.text for k in td_data])\n",
    "    return all_data"
   ]
  },
  {
   "cell_type": "code",
   "execution_count": 3,
   "metadata": {
    "ExecuteTime": {
     "end_time": "2021-01-20T14:52:04.234892Z",
     "start_time": "2021-01-20T14:51:55.617986Z"
    }
   },
   "outputs": [],
   "source": [
    "baseurl = 'https://www.kpaa.or.kr/kpaa/eng/list.do'\n",
    "driver = web_driver(baseurl)"
   ]
  },
  {
   "cell_type": "code",
   "execution_count": 4,
   "metadata": {
    "ExecuteTime": {
     "end_time": "2021-01-20T14:52:11.591296Z",
     "start_time": "2021-01-20T14:52:04.239696Z"
    }
   },
   "outputs": [],
   "source": [
    "all_data = []\n",
    "all_button = []\n",
    "\n",
    "button = driver.find_elements('css selector', \"a[href='#']\")[1]\n",
    "\n",
    "page = 1\n",
    "total_pages = '2'\n",
    "\n",
    "while True:\n",
    "    page += 1\n",
    "    button_name = button.get_attribute(\n",
    "        'onclick').split('(')[-1].split(')')[0].strip()\n",
    "    if button_name not in all_button:\n",
    "        button.click()\n",
    "    all_button.append(button_name)\n",
    "\n",
    "    all_data += extract(bbs(driver.page_source, 'html.parser'))\n",
    "    button = driver.find_elements('css selector', \"a[href='#']\")[page]\n",
    "\n",
    "    if page == 11:\n",
    "        page = 1\n",
    "\n",
    "    if button_name.strip() == total_pages:\n",
    "        break\n",
    "driver.close()"
   ]
  },
  {
   "cell_type": "code",
   "execution_count": 5,
   "metadata": {
    "ExecuteTime": {
     "end_time": "2021-01-20T14:52:11.618673Z",
     "start_time": "2021-01-20T14:52:11.595169Z"
    }
   },
   "outputs": [],
   "source": [
    "df =pd.DataFrame(all_data)\n",
    "df.columns=['Name','Office','Phone Number','E-Mail']"
   ]
  },
  {
   "cell_type": "code",
   "execution_count": 6,
   "metadata": {
    "ExecuteTime": {
     "end_time": "2021-01-20T14:52:11.755705Z",
     "start_time": "2021-01-20T14:52:11.622191Z"
    }
   },
   "outputs": [
    {
     "data": {
      "text/html": [
       "<div>\n",
       "<style scoped>\n",
       "    .dataframe tbody tr th:only-of-type {\n",
       "        vertical-align: middle;\n",
       "    }\n",
       "\n",
       "    .dataframe tbody tr th {\n",
       "        vertical-align: top;\n",
       "    }\n",
       "\n",
       "    .dataframe thead th {\n",
       "        text-align: right;\n",
       "    }\n",
       "</style>\n",
       "<table border=\"1\" class=\"dataframe\">\n",
       "  <thead>\n",
       "    <tr style=\"text-align: right;\">\n",
       "      <th></th>\n",
       "      <th>Name</th>\n",
       "      <th>Office</th>\n",
       "      <th>Phone Number</th>\n",
       "      <th>E-Mail</th>\n",
       "    </tr>\n",
       "  </thead>\n",
       "  <tbody>\n",
       "    <tr>\n",
       "      <th>0</th>\n",
       "      <td>AHN BUM SON</td>\n",
       "      <td>NONE OFFICE</td>\n",
       "      <td>+82-000-000-0000</td>\n",
       "      <td>bsahn@ipcj.net</td>\n",
       "    </tr>\n",
       "    <tr>\n",
       "      <th>1</th>\n",
       "      <td>AHN HEE JOO</td>\n",
       "      <td>SUNGAM SUH INTERNATIONAL PATENT &amp; LAW FIRM</td>\n",
       "      <td>+82-02-557-4343</td>\n",
       "      <td>episodex@nate.com</td>\n",
       "    </tr>\n",
       "    <tr>\n",
       "      <th>2</th>\n",
       "      <td>AHN HONG JOO</td>\n",
       "      <td>C&amp;S Patent and Law Office</td>\n",
       "      <td>+82-02-2182-0300</td>\n",
       "      <td>hjahn@cnspat.com</td>\n",
       "    </tr>\n",
       "    <tr>\n",
       "      <th>3</th>\n",
       "      <td>AHN HYOYOUNG</td>\n",
       "      <td>Zenith Patent &amp; Law Firm</td>\n",
       "      <td>+82-02-888-3066</td>\n",
       "      <td>hyahn.ip@gmail.com</td>\n",
       "    </tr>\n",
       "    <tr>\n",
       "      <th>4</th>\n",
       "      <td>AHN JAE HOON</td>\n",
       "      <td>ROYAL Patent &amp; Law Office</td>\n",
       "      <td>+82-02-552-2658</td>\n",
       "      <td>jhahn@royalpatent.com</td>\n",
       "    </tr>\n",
       "    <tr>\n",
       "      <th>5</th>\n",
       "      <td>AHN JAE HYUN</td>\n",
       "      <td>KANGNAM PATENT AND TRADEMARK OFFICE</td>\n",
       "      <td>+82-031-284-9601</td>\n",
       "      <td>iprkorea@naver.com</td>\n",
       "    </tr>\n",
       "    <tr>\n",
       "      <th>6</th>\n",
       "      <td>AHN Ji Houn</td>\n",
       "      <td>KBK &amp; Associates</td>\n",
       "      <td>+82-02-3453-6701</td>\n",
       "      <td>ahnjh0528@gmail.com</td>\n",
       "    </tr>\n",
       "    <tr>\n",
       "      <th>7</th>\n",
       "      <td>AHN KYUNG JIN</td>\n",
       "      <td>LAW FIRM ANYANG</td>\n",
       "      <td>+82-031-387-8000</td>\n",
       "      <td>00700kja@hanmail.net</td>\n",
       "    </tr>\n",
       "    <tr>\n",
       "      <th>8</th>\n",
       "      <td>AHN SEO YOUNG</td>\n",
       "      <td>YOU ME PATENT &amp; LAW FIRM</td>\n",
       "      <td>+82-02-3458-0700</td>\n",
       "      <td>ahn8444@naver.com</td>\n",
       "    </tr>\n",
       "    <tr>\n",
       "      <th>9</th>\n",
       "      <td>AHN SO HEE</td>\n",
       "      <td>MOON &amp; MOON International</td>\n",
       "      <td>+82-02-543-6400</td>\n",
       "      <td>thdcoddl@naver.com</td>\n",
       "    </tr>\n",
       "    <tr>\n",
       "      <th>10</th>\n",
       "      <td>AHN BUM SON</td>\n",
       "      <td>NONE OFFICE</td>\n",
       "      <td>+82-000-000-0000</td>\n",
       "      <td>bsahn@ipcj.net</td>\n",
       "    </tr>\n",
       "    <tr>\n",
       "      <th>11</th>\n",
       "      <td>AHN HEE JOO</td>\n",
       "      <td>SUNGAM SUH INTERNATIONAL PATENT &amp; LAW FIRM</td>\n",
       "      <td>+82-02-557-4343</td>\n",
       "      <td>episodex@nate.com</td>\n",
       "    </tr>\n",
       "    <tr>\n",
       "      <th>12</th>\n",
       "      <td>AHN HONG JOO</td>\n",
       "      <td>C&amp;S Patent and Law Office</td>\n",
       "      <td>+82-02-2182-0300</td>\n",
       "      <td>hjahn@cnspat.com</td>\n",
       "    </tr>\n",
       "    <tr>\n",
       "      <th>13</th>\n",
       "      <td>AHN HYOYOUNG</td>\n",
       "      <td>Zenith Patent &amp; Law Firm</td>\n",
       "      <td>+82-02-888-3066</td>\n",
       "      <td>hyahn.ip@gmail.com</td>\n",
       "    </tr>\n",
       "    <tr>\n",
       "      <th>14</th>\n",
       "      <td>AHN JAE HOON</td>\n",
       "      <td>ROYAL Patent &amp; Law Office</td>\n",
       "      <td>+82-02-552-2658</td>\n",
       "      <td>jhahn@royalpatent.com</td>\n",
       "    </tr>\n",
       "    <tr>\n",
       "      <th>15</th>\n",
       "      <td>AHN JAE HYUN</td>\n",
       "      <td>KANGNAM PATENT AND TRADEMARK OFFICE</td>\n",
       "      <td>+82-031-284-9601</td>\n",
       "      <td>iprkorea@naver.com</td>\n",
       "    </tr>\n",
       "    <tr>\n",
       "      <th>16</th>\n",
       "      <td>AHN Ji Houn</td>\n",
       "      <td>KBK &amp; Associates</td>\n",
       "      <td>+82-02-3453-6701</td>\n",
       "      <td>ahnjh0528@gmail.com</td>\n",
       "    </tr>\n",
       "    <tr>\n",
       "      <th>17</th>\n",
       "      <td>AHN KYUNG JIN</td>\n",
       "      <td>LAW FIRM ANYANG</td>\n",
       "      <td>+82-031-387-8000</td>\n",
       "      <td>00700kja@hanmail.net</td>\n",
       "    </tr>\n",
       "    <tr>\n",
       "      <th>18</th>\n",
       "      <td>AHN SEO YOUNG</td>\n",
       "      <td>YOU ME PATENT &amp; LAW FIRM</td>\n",
       "      <td>+82-02-3458-0700</td>\n",
       "      <td>ahn8444@naver.com</td>\n",
       "    </tr>\n",
       "    <tr>\n",
       "      <th>19</th>\n",
       "      <td>AHN SO HEE</td>\n",
       "      <td>MOON &amp; MOON International</td>\n",
       "      <td>+82-02-543-6400</td>\n",
       "      <td>thdcoddl@naver.com</td>\n",
       "    </tr>\n",
       "  </tbody>\n",
       "</table>\n",
       "</div>"
      ],
      "text/plain": [
       "             Name                                      Office  \\\n",
       "0     AHN BUM SON                                 NONE OFFICE   \n",
       "1     AHN HEE JOO  SUNGAM SUH INTERNATIONAL PATENT & LAW FIRM   \n",
       "2    AHN HONG JOO                   C&S Patent and Law Office   \n",
       "3    AHN HYOYOUNG                    Zenith Patent & Law Firm   \n",
       "4    AHN JAE HOON                   ROYAL Patent & Law Office   \n",
       "5    AHN JAE HYUN         KANGNAM PATENT AND TRADEMARK OFFICE   \n",
       "6     AHN Ji Houn                            KBK & Associates   \n",
       "7   AHN KYUNG JIN                             LAW FIRM ANYANG   \n",
       "8   AHN SEO YOUNG                    YOU ME PATENT & LAW FIRM   \n",
       "9      AHN SO HEE                   MOON & MOON International   \n",
       "10    AHN BUM SON                                 NONE OFFICE   \n",
       "11    AHN HEE JOO  SUNGAM SUH INTERNATIONAL PATENT & LAW FIRM   \n",
       "12   AHN HONG JOO                   C&S Patent and Law Office   \n",
       "13   AHN HYOYOUNG                    Zenith Patent & Law Firm   \n",
       "14   AHN JAE HOON                   ROYAL Patent & Law Office   \n",
       "15   AHN JAE HYUN         KANGNAM PATENT AND TRADEMARK OFFICE   \n",
       "16    AHN Ji Houn                            KBK & Associates   \n",
       "17  AHN KYUNG JIN                             LAW FIRM ANYANG   \n",
       "18  AHN SEO YOUNG                    YOU ME PATENT & LAW FIRM   \n",
       "19     AHN SO HEE                   MOON & MOON International   \n",
       "\n",
       "        Phone Number                 E-Mail  \n",
       "0   +82-000-000-0000         bsahn@ipcj.net  \n",
       "1    +82-02-557-4343      episodex@nate.com  \n",
       "2   +82-02-2182-0300       hjahn@cnspat.com  \n",
       "3    +82-02-888-3066     hyahn.ip@gmail.com  \n",
       "4    +82-02-552-2658  jhahn@royalpatent.com  \n",
       "5   +82-031-284-9601     iprkorea@naver.com  \n",
       "6   +82-02-3453-6701    ahnjh0528@gmail.com  \n",
       "7   +82-031-387-8000   00700kja@hanmail.net  \n",
       "8   +82-02-3458-0700      ahn8444@naver.com  \n",
       "9    +82-02-543-6400     thdcoddl@naver.com  \n",
       "10  +82-000-000-0000         bsahn@ipcj.net  \n",
       "11   +82-02-557-4343      episodex@nate.com  \n",
       "12  +82-02-2182-0300       hjahn@cnspat.com  \n",
       "13   +82-02-888-3066     hyahn.ip@gmail.com  \n",
       "14   +82-02-552-2658  jhahn@royalpatent.com  \n",
       "15  +82-031-284-9601     iprkorea@naver.com  \n",
       "16  +82-02-3453-6701    ahnjh0528@gmail.com  \n",
       "17  +82-031-387-8000   00700kja@hanmail.net  \n",
       "18  +82-02-3458-0700      ahn8444@naver.com  \n",
       "19   +82-02-543-6400     thdcoddl@naver.com  "
      ]
     },
     "execution_count": 6,
     "metadata": {},
     "output_type": "execute_result"
    }
   ],
   "source": [
    "df"
   ]
  }
 ],
 "metadata": {
  "kernelspec": {
   "display_name": "Python 3 (ipykernel)",
   "language": "python",
   "name": "python3"
  },
  "language_info": {
   "codemirror_mode": {
    "name": "ipython",
    "version": 3
   },
   "file_extension": ".py",
   "mimetype": "text/x-python",
   "name": "python",
   "nbconvert_exporter": "python",
   "pygments_lexer": "ipython3",
   "version": "3.9.13"
  },
  "varInspector": {
   "cols": {
    "lenName": 16,
    "lenType": 16,
    "lenVar": 40
   },
   "kernels_config": {
    "python": {
     "delete_cmd_postfix": "",
     "delete_cmd_prefix": "del ",
     "library": "var_list.py",
     "varRefreshCmd": "print(var_dic_list())"
    },
    "r": {
     "delete_cmd_postfix": ") ",
     "delete_cmd_prefix": "rm(",
     "library": "var_list.r",
     "varRefreshCmd": "cat(var_dic_list()) "
    }
   },
   "types_to_exclude": [
    "module",
    "function",
    "builtin_function_or_method",
    "instance",
    "_Feature"
   ],
   "window_display": false
  }
 },
 "nbformat": 4,
 "nbformat_minor": 4
}
