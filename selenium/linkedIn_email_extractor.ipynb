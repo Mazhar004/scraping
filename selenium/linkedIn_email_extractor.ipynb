{
 "cells": [
  {
   "cell_type": "code",
   "execution_count": 1,
   "metadata": {
    "ExecuteTime": {
     "end_time": "2021-04-15T01:00:33.114097Z",
     "start_time": "2021-04-15T01:00:32.822560Z"
    }
   },
   "outputs": [],
   "source": [
    "from bs4 import BeautifulSoup as bbs\n",
    "import requests as rq\n",
    "\n",
    "import sys\n",
    "import os\n",
    "\n",
    "from selenium import webdriver\n",
    "from selenium.webdriver.common.by import By\n",
    "from selenium.webdriver.support.ui import WebDriverWait\n",
    "from selenium.webdriver.common.keys import Keys\n",
    "\n",
    "import json"
   ]
  },
  {
   "cell_type": "code",
   "execution_count": 2,
   "metadata": {
    "ExecuteTime": {
     "end_time": "2021-04-15T01:00:34.973912Z",
     "start_time": "2021-04-15T01:00:34.954519Z"
    }
   },
   "outputs": [],
   "source": [
    "def web_driver(baseurl):\n",
    "    if 'linux' in sys.platform.lower():\n",
    "        driver = webdriver.Firefox()\n",
    "    else:\n",
    "        path = os.path.join(os.getcwd(), 'driver')\n",
    "        driver = webdriver.Firefox(path)\n",
    "\n",
    "    wait = WebDriverWait(driver, 10)\n",
    "    driver.get(baseurl)\n",
    "    return driver\n",
    "\n",
    "\n",
    "def login(driver, email, password):\n",
    "    driver.find_element_by_id('session_key').clear()\n",
    "    driver.find_element_by_id('session_password').clear()\n",
    "    driver.find_element_by_id('session_key').send_keys(email)\n",
    "    driver.find_element_by_id('session_password').send_keys(password)\n",
    "    driver.find_element_by_class_name('sign-in-form__submit-button').click()\n",
    "\n",
    "    skip = driver.find_elements_by_class_name('secondary-action-new')\n",
    "    if len(skip):\n",
    "        skip[0].click()\n",
    "\n",
    "\n",
    "def contact_info(driver):\n",
    "    driver.find_element_by_css_selector(\n",
    "        '.inline-block~ .inline-block+ .inline-block .link-without-visited-state').click()\n",
    "    mail = [i.get_attribute('href') for i in driver.find_elements_by_css_selector(\n",
    "        '#artdeco-modal-outlet div a') if 'mailto' in i.get_attribute('href')]\n",
    "    if len(mail):\n",
    "        return mail[0].split(':')[-1]\n",
    "    return None"
   ]
  },
  {
   "cell_type": "code",
   "execution_count": 3,
   "metadata": {
    "ExecuteTime": {
     "end_time": "2021-04-15T01:00:37.641285Z",
     "start_time": "2021-04-15T01:00:37.633491Z"
    }
   },
   "outputs": [],
   "source": [
    "email = 'abc@gmail.com'\n",
    "password = '12345678'"
   ]
  },
  {
   "cell_type": "code",
   "execution_count": 4,
   "metadata": {
    "ExecuteTime": {
     "end_time": "2021-04-15T01:00:47.628772Z",
     "start_time": "2021-04-15T01:00:39.596010Z"
    }
   },
   "outputs": [],
   "source": [
    "baseurl = 'https://www.linkedin.com'\n",
    "driver = web_driver(baseurl)"
   ]
  },
  {
   "cell_type": "code",
   "execution_count": 5,
   "metadata": {
    "ExecuteTime": {
     "end_time": "2021-04-15T01:01:07.324932Z",
     "start_time": "2021-04-15T01:00:55.206000Z"
    }
   },
   "outputs": [],
   "source": [
    "login(driver,email,password)"
   ]
  },
  {
   "cell_type": "code",
   "execution_count": 6,
   "metadata": {
    "ExecuteTime": {
     "end_time": "2021-04-15T01:01:16.982041Z",
     "start_time": "2021-04-15T01:01:10.279817Z"
    }
   },
   "outputs": [],
   "source": [
    "username = 'mazhar004'\n",
    "url = 'https://www.linkedin.com/in/mazhar004/'\n",
    "driver.get(url)"
   ]
  },
  {
   "cell_type": "markdown",
   "metadata": {},
   "source": [
    "## Sample Contact"
   ]
  },
  {
   "cell_type": "code",
   "execution_count": 7,
   "metadata": {
    "ExecuteTime": {
     "end_time": "2021-04-15T01:01:23.176688Z",
     "start_time": "2021-04-15T01:01:22.351291Z"
    }
   },
   "outputs": [
    {
     "data": {
      "text/plain": [
       "'princemazhar.mp@gmail.com'"
      ]
     },
     "execution_count": 7,
     "metadata": {},
     "output_type": "execute_result"
    }
   ],
   "source": [
    "contact_info(driver)"
   ]
  },
  {
   "cell_type": "code",
   "execution_count": 8,
   "metadata": {},
   "outputs": [],
   "source": [
    "driver.close()"
   ]
  },
  {
   "cell_type": "markdown",
   "metadata": {},
   "source": [
    "## Detail Output Can Produce"
   ]
  },
  {
   "cell_type": "code",
   "execution_count": null,
   "metadata": {},
   "outputs": [],
   "source": [
    "from custom_lib.login import login\n",
    "from custom_lib.section_library import *"
   ]
  },
  {
   "cell_type": "code",
   "execution_count": null,
   "metadata": {},
   "outputs": [],
   "source": [
    "username = 'roy'\n",
    "url = 'https://www.linkedin.com/in/{}/'.format(username)"
   ]
  },
  {
   "cell_type": "code",
   "execution_count": null,
   "metadata": {},
   "outputs": [],
   "source": [
    "data = {}\n",
    "data = get_profile_image(driver,data)\n",
    "data = first_section(driver,data)\n",
    "data = contact_details(driver,data)\n",
    "data = about_section(driver,data)\n",
    "data = experience_section(driver,data)\n",
    "data = education_section(driver,data)"
   ]
  },
  {
   "cell_type": "code",
   "execution_count": 22,
   "metadata": {
    "ExecuteTime": {
     "end_time": "2021-04-15T01:10:35.822326Z",
     "start_time": "2021-04-15T01:10:35.798338Z"
    },
    "scrolled": false
   },
   "outputs": [
    {
     "name": "stdout",
     "output_type": "stream",
     "text": [
      "Key: profile_image_link\n",
      "Values:\n",
      "https://media-exp1.licdn.com/dms/image/C4E03AQGlR5kc_dbcdw/profile-displayphoto-shrink_800_800/0/1587528712099?e=1623888000&v=beta&t=bypjIMXO8K94XjZ0lPtISwr-E_sttsKlLrfd3Pe_zEM\n",
      "----------------------------------------\n",
      "Key: name\n",
      "Values:\n",
      "Agnibho Roy\n",
      "----------------------------------------\n",
      "Key: title\n",
      "Values:\n",
      "Incoming Trading Intern @ Citadel Securities | DATA 100 uGSI | Berkeley EECS + Applied Math\n",
      "----------------------------------------\n",
      "Key: address\n",
      "Values:\n",
      "Coppell, Texas, United States\n",
      "----------------------------------------\n",
      "Key: connection\n",
      "Values:\n",
      "500+ connections\n",
      "----------------------------------------\n",
      "Key: about_section\n",
      "Values:\n",
      "An undergraduate at UC Berkeley studying Electrical Engineering & Computer Science, and Business Administration. Skilled in various programming languages, data science applications, and software development, and experience with back-end projects at Fidelity Investments, quantitative trading at Royal Bank of Canada, and research at MIT. Very passionate about the markets and quantitative finance, and teaching. Previous served and currently serving as course staff for computer science and data science undergraduate courses at UC Berkeley.\n",
      "----------------------------------------\n",
      "Key: all_experience\n",
      "Values = \n",
      " [\n",
      "  {\n",
      "    \"Dates Employed\": \"Oct 2020 \\u2013 Present\",\n",
      "    \"Employment Duration\": \"7 mos\",\n",
      "    \"Location\": \"New York City Metropolitan Area\",\n",
      "    \"secondary-title\": \"Citadel Securities Full-time\",\n",
      "    \"title\": \"Incoming Trading Intern\"\n",
      "  },\n",
      "  {\n",
      "    \"Dates Employed\": \"Nov 2020 \\u2013 Present\",\n",
      "    \"Employment Duration\": \"6 mos\",\n",
      "    \"Location\": \"Berkeley, California, United States\",\n",
      "    \"secondary-title\": \"Berkeley RISE Lab Full-time\",\n",
      "    \"title\": \"Undergraduate Student Researcher\"\n",
      "  },\n",
      "  {\n",
      "    \"Dates Employed\": \"Aug 2020 \\u2013 Present\",\n",
      "    \"Employment Duration\": \"9 mos\",\n",
      "    \"Location\": \"Berkeley, California, United States\",\n",
      "    \"Total Duration\": \"1 yr 9 mos\",\n",
      "    \"description\": \"Student instructor for the summer rendition of CS 70: Discrete Mathematics and Probability\",\n",
      "    \"secondary-title\": \"UC Berkeley College of Engineering\"\n",
      "  },\n",
      "  {\n",
      "    \"Dates Employed\": \"Aug 2020 \\u2013 Present\",\n",
      "    \"Employment Duration\": \"9 mos\",\n",
      "    \"Location\": \"Berkeley, California, United States\",\n",
      "    \"description\": \"Student instructor for DATA 100: Data Science Principles and Techniques. One of lead content TA's, in charge of creating exams and assignments for the class.\",\n",
      "    \"secondary-title\": \"UC Berkeley College of Engineering\",\n",
      "    \"title\": \"Undergraduate Student Instructor (DATA 100)\"\n",
      "  },\n",
      "  {\n",
      "    \"Dates Employed\": \"Aug 2019 \\u2013 Aug 2020\",\n",
      "    \"Employment Duration\": \"1 yr 1 mo\",\n",
      "    \"Location\": \"Berkeley, California, United States\",\n",
      "    \"description\": \"Student instructor for the summer rendition of CS 70: Discrete Mathematics and Probability\",\n",
      "    \"secondary-title\": \"UC Berkeley College of Engineering\",\n",
      "    \"title\": \"Course Reader / Undergraduate Student Instructor (CS 70)\"\n",
      "  },\n",
      "  {\n",
      "    \"Dates Employed\": \"May 2020 \\u2013 Oct 2020\",\n",
      "    \"Employment Duration\": \"6 mos\",\n",
      "    \"Location\": \"New York, United States\",\n",
      "    \"description\": \"Global Equity Algorithmic Trading: Algorithm Development Team\",\n",
      "    \"secondary-title\": \"RBC Capital Markets Full-time\",\n",
      "    \"title\": \"Quantitative Trading and Research Intern\"\n",
      "  },\n",
      "  {\n",
      "    \"Dates Employed\": \"May 2019 \\u2013 Aug 2019\",\n",
      "    \"Employment Duration\": \"4 mos\",\n",
      "    \"Location\": \"Westlake, TX\",\n",
      "    \"description\": \"Alternative Investments Team\",\n",
      "    \"secondary-title\": \"Fidelity Investments Full-time\",\n",
      "    \"title\": \"Software Engineering Intern\"\n",
      "  },\n",
      "  {\n",
      "    \"Dates Employed\": \"Jun 2017 \\u2013 Aug 2017\",\n",
      "    \"Employment Duration\": \"3 mos\",\n",
      "    \"Location\": \"Boston, Massachusetts\",\n",
      "    \"description\": \"MIT Francis Bitter Lab\",\n",
      "    \"secondary-title\": \"Massachusetts Institute of Technology Internship\",\n",
      "    \"title\": \"Research Intern\"\n",
      "  }\n",
      "]\n",
      "----------------------------------------\n",
      "Key: all_education\n",
      "Values = \n",
      " [\n",
      "  {\n",
      "    \"title\": \"University of California, Berkeley\",\n",
      "    \"secondary-title\": \"Activities and Societies: Sigma Alpha Epsilon, Computer Science Mentors, Tau Beta Pi\",\n",
      "    \"dates\": \"2018 \\u2013 2022\",\n",
      "    \"description\": \"STAT 150 - Stochastic Processes\"\n",
      "  },\n",
      "  {\n",
      "    \"title\": \"Coppell High School\",\n",
      "    \"secondary-title\": \"Activities and Societies: CHS Varsity Tennis Player, American Mathematics Competitions (AMC), University Interscholastic League (UIL) Mathematics and Sciences, Business Professionals of America (BPA), Basics of Stocks and Investment Club (BSI)\",\n",
      "    \"dates\": \"2014 \\u2013 2018\"\n",
      "  }\n",
      "]\n",
      "----------------------------------------\n"
     ]
    }
   ],
   "source": [
    "for i,j in data.items():\n",
    "    print(\"Key:\",i)\n",
    "    if isinstance(j, str):\n",
    "        print(\"Values:\",j,sep='\\n')\n",
    "    else:\n",
    "        print(\"Values = \\n\",json.dumps(j,indent=2))\n",
    "    print(40*'-')"
   ]
  }
 ],
 "metadata": {
  "kernelspec": {
   "display_name": "Python 3",
   "language": "python",
   "name": "python3"
  },
  "language_info": {
   "codemirror_mode": {
    "name": "ipython",
    "version": 3
   },
   "file_extension": ".py",
   "mimetype": "text/x-python",
   "name": "python",
   "nbconvert_exporter": "python",
   "pygments_lexer": "ipython3",
   "version": "3.8.5"
  },
  "varInspector": {
   "cols": {
    "lenName": 16,
    "lenType": 16,
    "lenVar": 40
   },
   "kernels_config": {
    "python": {
     "delete_cmd_postfix": "",
     "delete_cmd_prefix": "del ",
     "library": "var_list.py",
     "varRefreshCmd": "print(var_dic_list())"
    },
    "r": {
     "delete_cmd_postfix": ") ",
     "delete_cmd_prefix": "rm(",
     "library": "var_list.r",
     "varRefreshCmd": "cat(var_dic_list()) "
    }
   },
   "types_to_exclude": [
    "module",
    "function",
    "builtin_function_or_method",
    "instance",
    "_Feature"
   ],
   "window_display": false
  }
 },
 "nbformat": 4,
 "nbformat_minor": 4
}
