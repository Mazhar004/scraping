{
 "cells": [
  {
   "cell_type": "code",
   "execution_count": 1,
   "id": "aa87afaf",
   "metadata": {
    "ExecuteTime": {
     "end_time": "2023-02-19T16:02:15.061749Z",
     "start_time": "2023-02-19T16:02:14.829968Z"
    }
   },
   "outputs": [],
   "source": [
    "import time\n",
    "import os\n",
    "import sys\n",
    "import warnings\n",
    "\n",
    "from selenium import webdriver\n",
    "from selenium.webdriver.common.by import By\n",
    "\n",
    "warnings.filterwarnings(\"ignore\")"
   ]
  },
  {
   "cell_type": "code",
   "execution_count": 2,
   "id": "2b784812",
   "metadata": {
    "ExecuteTime": {
     "end_time": "2023-02-19T16:02:15.108621Z",
     "start_time": "2023-02-19T16:02:15.061749Z"
    }
   },
   "outputs": [],
   "source": [
    "def web_driver(baseurl, browser='firefox'):\n",
    "    if 'linux' in sys.platform.lower():\n",
    "        if browser.lower() == 'firefox':\n",
    "            driver = webdriver.Firefox()\n",
    "        else:\n",
    "            driver = webdriver.Chrome()\n",
    "    else:\n",
    "        path = os.path.join(os.getcwd(), 'driver')\n",
    "        if browser.lower() == 'firefox':\n",
    "            driver = webdriver.Firefox(path)\n",
    "        else:\n",
    "            driver = webdriver.Chrome(path)\n",
    "\n",
    "    driver.get(baseurl)\n",
    "    return driver\n",
    "\n",
    "\n",
    "def para_phrase(input_text):\n",
    "    '''\n",
    "    Enter the text in textbox & captured the Paraphrase text\n",
    "    '''\n",
    "    input_area = driver.find_element(by='id', value='inputText')\n",
    "    input_area.send_keys(input_text)\n",
    "\n",
    "    submit_button = driver.find_element(By.CSS_SELECTOR,\n",
    "                                        'div button.quillArticleBtn')\n",
    "    submit_button.click()\n",
    "    time.sleep(10)\n",
    "    output = driver.find_element(By.CSS_SELECTOR,\n",
    "                                 'span#editable-content-within-article').text\n",
    "\n",
    "    return output\n",
    "\n",
    "\n",
    "def split_index(full_para):\n",
    "    '''\n",
    "    Diveded paragraph into smaller sentences\n",
    "    - There is a word limit 125\n",
    "    - So I have allowed maximum 50 word [But you can change]\n",
    "    '''\n",
    "    index = [0]\n",
    "    count = 0\n",
    "    for i, sentence in enumerate(full_para):\n",
    "        count += len(sentence.split())\n",
    "        if count > 50:\n",
    "            print(count - len(sentence.split()))\n",
    "            count = 0\n",
    "            index.append(i)\n",
    "    if index[-1] + 1 != len(full_para):\n",
    "        index.append(len(full_para))\n",
    "    return index\n",
    "\n",
    "\n",
    "def pipeline(sentences):\n",
    "    '''\n",
    "    Call para_phrase function (Retry twice as declared in count)\n",
    "    '''\n",
    "    global driver\n",
    "\n",
    "    count = 2\n",
    "    while count > 0:\n",
    "        try:\n",
    "            para = '.'.join(sentences)\n",
    "            tran_text = para_phrase(para)\n",
    "            driver.find_element(by='id', value='inputText').clear()\n",
    "            return tran_text\n",
    "        except:\n",
    "            driver.close()\n",
    "            url = 'https://quillbot.com/'\n",
    "            driver = web_driver(url)\n",
    "        count -= 1\n",
    "\n",
    "    print(\"Error\", sentences)\n",
    "\n",
    "\n",
    "def full_para_process(full_para):\n",
    "    '''\n",
    "    Call the full process\n",
    "    - Full para split into smaller sentences\n",
    "    - Call para pipeline function\n",
    "    - COllect result\n",
    "    '''\n",
    "    result = []\n",
    "    full_para = full_para.split('.')\n",
    "\n",
    "    index = split_index(full_para)\n",
    "    for s, e in zip(index, index[1:]):\n",
    "        tran_text = pipeline(full_para[s:e])\n",
    "\n",
    "        if tran_text:\n",
    "            result.append(tran_text)\n",
    "\n",
    "    return result"
   ]
  },
  {
   "cell_type": "markdown",
   "id": "506e431d",
   "metadata": {},
   "source": [
    "## Open Browser"
   ]
  },
  {
   "cell_type": "code",
   "execution_count": 3,
   "id": "b8f92ac6",
   "metadata": {
    "ExecuteTime": {
     "end_time": "2023-02-19T16:02:39.846126Z",
     "start_time": "2023-02-19T16:02:15.108621Z"
    }
   },
   "outputs": [],
   "source": [
    "global driver\n",
    "\n",
    "url = 'https://quillbot.com/'\n",
    "driver = web_driver(url)"
   ]
  },
  {
   "cell_type": "markdown",
   "id": "9c6ac898",
   "metadata": {
    "ExecuteTime": {
     "end_time": "2023-02-19T15:51:14.111073Z",
     "start_time": "2023-02-19T15:51:14.095462Z"
    }
   },
   "source": [
    "## Input the text & Call the function"
   ]
  },
  {
   "cell_type": "code",
   "execution_count": 4,
   "id": "cfd0d906",
   "metadata": {
    "ExecuteTime": {
     "end_time": "2023-02-19T16:02:52.760357Z",
     "start_time": "2023-02-19T16:02:39.850126Z"
    },
    "scrolled": false
   },
   "outputs": [],
   "source": [
    "para = '''A data engineer is responsible for collecting, managing, and converting \n",
    "raw data into information that can be interpreted by data scientists and business analysts. \n",
    "Data accessibility is their ultimate goal, which is to enable organizations to utilize data for performance \n",
    "evaluation and optimization.\n",
    "'''\n",
    "\n",
    "transformed_text = full_para_process(para)\n",
    "transformed_text = ''.join(transformed_text)"
   ]
  },
  {
   "cell_type": "code",
   "execution_count": 5,
   "id": "bfcc902e",
   "metadata": {
    "ExecuteTime": {
     "end_time": "2023-02-19T16:02:52.792338Z",
     "start_time": "2023-02-19T16:02:52.764340Z"
    }
   },
   "outputs": [
    {
     "name": "stdout",
     "output_type": "stream",
     "text": [
      "A data engineer is in charge of gathering, managing, and transforming unprocessed data into knowledge that data scientists and business analysts can understand.\n",
      "Its ultimate objective is to make data accessible so that businesses can use it for performance analysis and improvement.\n"
     ]
    }
   ],
   "source": [
    "print(transformed_text)"
   ]
  },
  {
   "cell_type": "markdown",
   "id": "fe052414",
   "metadata": {},
   "source": [
    "## Close the driver"
   ]
  },
  {
   "cell_type": "code",
   "execution_count": 6,
   "id": "5f6a1fe1",
   "metadata": {
    "ExecuteTime": {
     "end_time": "2023-02-19T16:02:54.377238Z",
     "start_time": "2023-02-19T16:02:52.796335Z"
    }
   },
   "outputs": [],
   "source": [
    "driver.close()"
   ]
  }
 ],
 "metadata": {
  "kernelspec": {
   "display_name": "Python 3 (ipykernel)",
   "language": "python",
   "name": "python3"
  },
  "language_info": {
   "codemirror_mode": {
    "name": "ipython",
    "version": 3
   },
   "file_extension": ".py",
   "mimetype": "text/x-python",
   "name": "python",
   "nbconvert_exporter": "python",
   "pygments_lexer": "ipython3",
   "version": "3.9.13"
  },
  "varInspector": {
   "cols": {
    "lenName": 16,
    "lenType": 16,
    "lenVar": 40
   },
   "kernels_config": {
    "python": {
     "delete_cmd_postfix": "",
     "delete_cmd_prefix": "del ",
     "library": "var_list.py",
     "varRefreshCmd": "print(var_dic_list())"
    },
    "r": {
     "delete_cmd_postfix": ") ",
     "delete_cmd_prefix": "rm(",
     "library": "var_list.r",
     "varRefreshCmd": "cat(var_dic_list()) "
    }
   },
   "types_to_exclude": [
    "module",
    "function",
    "builtin_function_or_method",
    "instance",
    "_Feature"
   ],
   "window_display": false
  }
 },
 "nbformat": 4,
 "nbformat_minor": 5
}
